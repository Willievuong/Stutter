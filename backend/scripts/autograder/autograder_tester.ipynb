{
 "cells": [
  {
   "cell_type": "code",
   "execution_count": 57,
   "metadata": {},
   "outputs": [],
   "source": [
    "from __future__ import print_function\n",
    "import time\n",
    "import boto3\n",
    "import urllib.request, json\n",
    "import random\n",
    "\n",
    "\n",
    "\"\"\"\n",
    "    Function: vedio_to_text\n",
    "    Arguments: vedio_url: url to the interview vedio\n",
    "               vedio_format: format of the interview vedio\n",
    "    Description: Transcrip vedio to text\n",
    "     \n",
    "\"\"\"\n",
    "def vedio_to_text(vedio_url, vedio_format):\n",
    "    # Set params for API Call\n",
    "    transcribe = boto3.client('transcribe')\n",
    "    job_name = vedio_url.split(\"amazonaws.com/\")[1]\n",
    "    job_uri = vedio_url\n",
    "    \n",
    "    # Start transcription job\n",
    "    transcribe.start_transcription_job(\n",
    "        TranscriptionJobName=job_name,\n",
    "        Media={'MediaFileUri': job_uri},\n",
    "        MediaFormat=vedio_format,\n",
    "        LanguageCode='en-US'\n",
    "    )\n",
    "    while True:\n",
    "        # Result returned in status\n",
    "        status = transcribe.get_transcription_job(TranscriptionJobName=job_name)\n",
    "        if status['TranscriptionJob']['TranscriptionJobStatus'] in ['COMPLETED', 'FAILED']:\n",
    "            break\n",
    "    \n",
    "    # Extract transcript from API response\n",
    "    transcript_file_url = status['TranscriptionJob']['Transcript']['TranscriptFileUri']\n",
    "    response = urllib.request.urlopen(transcript_file_url)\n",
    "    data = json.loads(response.read())\n",
    "    transcription = data['results'][\"transcripts\"][0]['transcript']\n",
    "    \n",
    "    return transcription.lower()\n",
    "\n",
    "\"\"\"\n",
    "    Function: grade_answer\n",
    "    Arguments: answer: User answer in text format\n",
    "               rubric_list: python list of words that are suppose to be included in the user response\n",
    "    Description: Grade user's answer by checking if their answer mentions keywords in the rubric.\n",
    "     \n",
    "\"\"\"\n",
    "def grade_answer(answer, rubric_list):\n",
    "    keyword_missed = []\n",
    "    for keyword in rubric_list:\n",
    "        if keyword not in answer:\n",
    "            keyword_missed.append(keyword)\n",
    "            \n",
    "    return keyword_missed\n",
    "\n",
    "\n",
    "\"\"\"\n",
    "    Function: autograder\n",
    "    Arguments: vedio_url: url to the interview vedio\n",
    "               vedio_format: format of the interview vedio\n",
    "               rubric_list: python list of words that are suppose to be included in the user response\n",
    "    Description: This is a wrapper funciton that calls grade_answer and vedio_to_text to evaluate the acuracy\n",
    "                 of the user response.\n",
    "    Returns: Python list: words in rublic_list(keywords for answer) that are missed in user response\n",
    "     \n",
    "\"\"\"\n",
    "def autograder(vedio_url, vedio_format, rubric_list):\n",
    "    transcription = vedio_to_text(vedio_url, vedio_format)\n",
    "    keyword_missed = grade_answer(transcription, rubric_list)\n",
    "    return keyword_missed\n",
    "    "
   ]
  },
  {
   "cell_type": "code",
   "execution_count": 58,
   "metadata": {},
   "outputs": [
    {
     "data": {
      "text/plain": [
       "['hardware']"
      ]
     },
     "execution_count": 58,
     "metadata": {},
     "output_type": "execute_result"
    }
   ],
   "source": [
    "answer = \"The goal of a hackathon is to create usable software or with the goal of creating a functioning product by the end of the event.[1] Hackathons tend to have a specific focus, which can include the programming language used, the operating system, an application, an API, or the subject and the demographic group of the programmers. In other cases, there is no restriction on the type of software being created.\"\n",
    "rubric_list = [\"goal\", \"software\", \"hardware\", \"product\", \"event\"]\n",
    "grade_answer(answer, rubric_list)"
   ]
  },
  {
   "cell_type": "code",
   "execution_count": 59,
   "metadata": {},
   "outputs": [],
   "source": [
    "rubric_list = [\"hackathon\", \"hardware\", \"software\", \"application\", \"programming\", \"language\", \"programmer\"]\n",
    "keyword_missed = autograder(\"https://init-test.s3-us-west-1.amazonaws.com/test.mp3\", \"mp3\", rubric_list)"
   ]
  },
  {
   "cell_type": "code",
   "execution_count": 60,
   "metadata": {},
   "outputs": [
    {
     "data": {
      "text/plain": [
       "[]"
      ]
     },
     "execution_count": 60,
     "metadata": {},
     "output_type": "execute_result"
    }
   ],
   "source": [
    "keyword_missed"
   ]
  },
  {
   "cell_type": "code",
   "execution_count": null,
   "metadata": {},
   "outputs": [],
   "source": []
  }
 ],
 "metadata": {
  "kernelspec": {
   "display_name": "Python 3",
   "language": "python",
   "name": "python3"
  },
  "language_info": {
   "codemirror_mode": {
    "name": "ipython",
    "version": 3
   },
   "file_extension": ".py",
   "mimetype": "text/x-python",
   "name": "python",
   "nbconvert_exporter": "python",
   "pygments_lexer": "ipython3",
   "version": "3.7.3"
  }
 },
 "nbformat": 4,
 "nbformat_minor": 2
}
